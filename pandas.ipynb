{
 "metadata": {
  "language_info": {
   "codemirror_mode": {
    "name": "ipython",
    "version": 3
   },
   "file_extension": ".py",
   "mimetype": "text/x-python",
   "name": "python",
   "nbconvert_exporter": "python",
   "pygments_lexer": "ipython3",
   "version": "3.8.0-final"
  },
  "orig_nbformat": 2,
  "kernelspec": {
   "name": "Python 3.8.0 32-bit",
   "display_name": "Python 3.8.0 32-bit",
   "metadata": {
    "interpreter": {
     "hash": "c66ca5b6316464b6c2c1b87e555c4da63a61d1a3eb5decdaa5a3a670c8ff95db"
    }
   }
  }
 },
 "nbformat": 4,
 "nbformat_minor": 2,
 "cells": [
  {
   "cell_type": "code",
   "execution_count": 1,
   "metadata": {},
   "outputs": [],
   "source": [
    "import pandas as pd"
   ]
  },
  {
   "cell_type": "code",
   "execution_count": 3,
   "metadata": {},
   "outputs": [],
   "source": [
    "# Lendo o arquivo CSV\n",
    "dados = pd.read_csv('db.csv', sep = ';')"
   ]
  },
  {
   "cell_type": "code",
   "execution_count": 4,
   "metadata": {},
   "outputs": [
    {
     "output_type": "execute_result",
     "data": {
      "text/plain": [
       "               Nome            Motor   Ano  Quilometragem  Zero_km  \\\n",
       "0     Jetta Variant  Motor 4.0 Turbo  2003        44410.0    False   \n",
       "1            Passat     Motor Diesel  1991         5712.0    False   \n",
       "2          Crossfox  Motor Diesel V8  1990        37123.0    False   \n",
       "3               DS5  Motor 2.4 Turbo  2019            NaN     True   \n",
       "4  Aston Martin DB4  Motor 2.4 Turbo  2006        25757.0    False   \n",
       "\n",
       "                                          Acessórios      Valor  \n",
       "0  ['Rodas de liga', 'Travas elétricas', 'Piloto ...   88078.64  \n",
       "1  ['Central multimídia', 'Teto panorâmico', 'Fre...  106161.94  \n",
       "2  ['Piloto automático', 'Controle de estabilidad...   72832.16  \n",
       "3  ['Travas elétricas', '4 X 4', 'Vidros elétrico...  124549.07  \n",
       "4  ['Rodas de liga', '4 X 4', 'Central multimídia...   92612.10  "
      ],
      "text/html": "<div>\n<style scoped>\n    .dataframe tbody tr th:only-of-type {\n        vertical-align: middle;\n    }\n\n    .dataframe tbody tr th {\n        vertical-align: top;\n    }\n\n    .dataframe thead th {\n        text-align: right;\n    }\n</style>\n<table border=\"1\" class=\"dataframe\">\n  <thead>\n    <tr style=\"text-align: right;\">\n      <th></th>\n      <th>Nome</th>\n      <th>Motor</th>\n      <th>Ano</th>\n      <th>Quilometragem</th>\n      <th>Zero_km</th>\n      <th>Acessórios</th>\n      <th>Valor</th>\n    </tr>\n  </thead>\n  <tbody>\n    <tr>\n      <th>0</th>\n      <td>Jetta Variant</td>\n      <td>Motor 4.0 Turbo</td>\n      <td>2003</td>\n      <td>44410.0</td>\n      <td>False</td>\n      <td>['Rodas de liga', 'Travas elétricas', 'Piloto ...</td>\n      <td>88078.64</td>\n    </tr>\n    <tr>\n      <th>1</th>\n      <td>Passat</td>\n      <td>Motor Diesel</td>\n      <td>1991</td>\n      <td>5712.0</td>\n      <td>False</td>\n      <td>['Central multimídia', 'Teto panorâmico', 'Fre...</td>\n      <td>106161.94</td>\n    </tr>\n    <tr>\n      <th>2</th>\n      <td>Crossfox</td>\n      <td>Motor Diesel V8</td>\n      <td>1990</td>\n      <td>37123.0</td>\n      <td>False</td>\n      <td>['Piloto automático', 'Controle de estabilidad...</td>\n      <td>72832.16</td>\n    </tr>\n    <tr>\n      <th>3</th>\n      <td>DS5</td>\n      <td>Motor 2.4 Turbo</td>\n      <td>2019</td>\n      <td>NaN</td>\n      <td>True</td>\n      <td>['Travas elétricas', '4 X 4', 'Vidros elétrico...</td>\n      <td>124549.07</td>\n    </tr>\n    <tr>\n      <th>4</th>\n      <td>Aston Martin DB4</td>\n      <td>Motor 2.4 Turbo</td>\n      <td>2006</td>\n      <td>25757.0</td>\n      <td>False</td>\n      <td>['Rodas de liga', '4 X 4', 'Central multimídia...</td>\n      <td>92612.10</td>\n    </tr>\n  </tbody>\n</table>\n</div>"
     },
     "metadata": {},
     "execution_count": 4
    }
   ],
   "source": [
    "dados.head()"
   ]
  },
  {
   "cell_type": "code",
   "execution_count": null,
   "metadata": {},
   "outputs": [],
   "source": []
  }
 ]
}